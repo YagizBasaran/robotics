{
 "cells": [
  {
   "cell_type": "code",
   "execution_count": 7,
   "metadata": {},
   "outputs": [
    {
     "name": "stdout",
     "output_type": "stream",
     "text": [
      "STACK9 /usr/bin/python3(_PyObject_MakeTpCall\n",
      "STACK8 /usr/bin/python3(PyCFunction_Call\n",
      "STACK7 /home/yagz/.local/lib/python3.8/site-packages/robotic/_robotic.so(+0x3a4ed) [0x7f73203ea4ed]\n",
      "STACK6 /home/yagz/.local/lib/python3.8/site-packages/robotic/_robotic.so(+0x759d3) [0x7f73204259d3]\n",
      "STACK5 rai::Configuration::addFile(char const*, char const*)\n",
      "STACK4 rai::Graph::Graph(std::istream&)\n",
      "STACK3 rai::Graph::read(std::istream&, bool)\n",
      "STACK2 rai::FileToken::getIs(bool)\n",
      "STACK1 rai::FileToken::cd_file()\n",
      "STACK0 rai::LogToken::~LogToken()\n"
     ]
    },
    {
     "name": "stderr",
     "output_type": "stream",
     "text": [
      "== ERROR:util.cpp:cd_file:1042(-2) couldn't change to directory '../panda' from '/home/yagz/rai_venv/robotics/PROJECT'\n"
     ]
    },
    {
     "ename": "RuntimeError",
     "evalue": "util.cpp:cd_file:1042(-2) couldn't change to directory '../panda' from '/home/yagz/rai_venv/robotics/PROJECT'",
     "output_type": "error",
     "traceback": [
      "\u001b[0;31m---------------------------------------------------------------------------\u001b[0m",
      "\u001b[0;31mRuntimeError\u001b[0m                              Traceback (most recent call last)",
      "Cell \u001b[0;32mIn[7], line 9\u001b[0m\n\u001b[1;32m      6\u001b[0m os\u001b[38;5;241m.\u001b[39menviron[\u001b[38;5;124m'\u001b[39m\u001b[38;5;124mDISPLAY\u001b[39m\u001b[38;5;124m'\u001b[39m] \u001b[38;5;241m=\u001b[39m \u001b[38;5;124m'\u001b[39m\u001b[38;5;124m:0\u001b[39m\u001b[38;5;124m'\u001b[39m\n\u001b[1;32m      8\u001b[0m C \u001b[38;5;241m=\u001b[39m ry\u001b[38;5;241m.\u001b[39mConfig()\n\u001b[0;32m----> 9\u001b[0m \u001b[43mC\u001b[49m\u001b[38;5;241;43m.\u001b[39;49m\u001b[43maddFile\u001b[49m\u001b[43m(\u001b[49m\u001b[38;5;124;43m\"\u001b[39;49m\u001b[38;5;124;43m/home/yagz/rai_venv/robotics/PROJECT/Penvironment.g\u001b[39;49m\u001b[38;5;124;43m\"\u001b[39;49m\u001b[43m)\u001b[49m\n\u001b[1;32m     10\u001b[0m C\u001b[38;5;241m.\u001b[39mview()\n",
      "\u001b[0;31mRuntimeError\u001b[0m: util.cpp:cd_file:1042(-2) couldn't change to directory '../panda' from '/home/yagz/rai_venv/robotics/PROJECT'"
     ]
    }
   ],
   "source": [
    "import numpy as np\n",
    "import robotic as ry\n",
    "import os\n",
    "\n",
    "# Set the DISPLAY environment variable\n",
    "os.environ['DISPLAY'] = ':0'\n",
    "\n",
    "C = ry.Config()\n",
    "C.addFile(\"/home/yagz/rai_venv/robotics/PROJECT/Penvironment.g\")\n",
    "C.view()"
   ]
  }
 ],
 "metadata": {
  "kernelspec": {
   "display_name": "Python 3",
   "language": "python",
   "name": "python3"
  },
  "language_info": {
   "codemirror_mode": {
    "name": "ipython",
    "version": 3
   },
   "file_extension": ".py",
   "mimetype": "text/x-python",
   "name": "python",
   "nbconvert_exporter": "python",
   "pygments_lexer": "ipython3",
   "version": "3.8.10"
  }
 },
 "nbformat": 4,
 "nbformat_minor": 2
}
