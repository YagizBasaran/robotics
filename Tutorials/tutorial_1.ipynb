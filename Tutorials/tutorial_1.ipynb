{
 "cells": [
  {
   "cell_type": "markdown",
   "metadata": {},
   "source": [
    "# Introduction\n",
    "\n",
    "In RAI, the Configuration is a central concept representing the complete state of the robotic environment, encompassing both the robot and any objects in the world. It serves as a container for all relevant simulation information, including the positions, orientations, and kinematic relationships of objects and robot links.\n",
    "\n",
    "Another key term is Frame. A Frame represents a reference point or a rigid body in the environment. It defines the position, orientation, and kinematic relationships of objects or robot components. Frames can have shapes (such as boxes or spheres) attached to them and are connected by joints or constraints, forming a kinematic tree."
   ]
  },
  {
   "cell_type": "code",
   "execution_count": 1,
   "metadata": {},
   "outputs": [],
   "source": [
    "import robotic as ry\n",
    "import os"
   ]
  },
  {
   "cell_type": "code",
   "execution_count": 2,
   "metadata": {},
   "outputs": [
    {
     "name": "stdout",
     "output_type": "stream",
     "text": [
      "frame name: first\n",
      "pos: [0.  0.  0.5]\n",
      "quat: [0.95782629 0.28734789 0.         0.        ]\n"
     ]
    },
    {
     "data": {
      "text/plain": [
       "0"
      ]
     },
     "execution_count": 2,
     "metadata": {},
     "output_type": "execute_result"
    }
   ],
   "source": [
    "os.environ['DISPLAY'] = ':0'\n",
    "\n",
    "# Create our configuration \n",
    "C = ry.Config()\n",
    "\n",
    "# Add the first frame.\n",
    "f = C.addFrame(name=\"first\")\n",
    "f.setShape(type=ry.ST.marker, size=[.3])\n",
    "f.setPosition([0.0 ,0.0 , 0.5])\n",
    "f.setQuaternion([1.0, 0.3, 0.0, .0]) \n",
    "print(\"frame name:\", f.name)\n",
    "print(\"pos:\", f.getPosition()) \n",
    "print(\"quat:\", f.getQuaternion())\n",
    "C.view()\n"
   ]
  },
  {
   "cell_type": "markdown",
   "metadata": {},
   "source": [
    "C.view() opens a view window. You can right-click on the window bar and select \"Always on Top.\""
   ]
  },
  {
   "cell_type": "markdown",
   "metadata": {},
   "source": [
    "# Adding a Box to the Environment"
   ]
  },
  {
   "cell_type": "markdown",
   "metadata": {},
   "source": [
    "Let's clear the configuration and add a new box object."
   ]
  },
  {
   "cell_type": "code",
   "execution_count": 38,
   "metadata": {},
   "outputs": [],
   "source": [
    "C.clear()"
   ]
  },
  {
   "cell_type": "code",
   "execution_count": 44,
   "metadata": {},
   "outputs": [
    {
     "name": "stdout",
     "output_type": "stream",
     "text": [
      "-- WARNING:kin.cpp:addFrame:193(-1) frame already exists! returning existing without modifications!\n"
     ]
    },
    {
     "data": {
      "text/plain": [
       "0"
      ]
     },
     "execution_count": 44,
     "metadata": {},
     "output_type": "execute_result"
    }
   ],
   "source": [
    "C.addFrame(\"box1\") \\\n",
    "    .setPosition([0, 0, .25]) \\\n",
    "    .setShape(ry.ST.ssBox, size=[.5, .5, .5, .05]) \\\n",
    "    .setColor([1, .5, 0]) \\\n",
    "    .setMass(.1) \\\n",
    "    .setContact(True)\n",
    "C.view()"
   ]
  },
  {
   "cell_type": "markdown",
   "metadata": {},
   "source": [
    "# Relative Positions"
   ]
  },
  {
   "cell_type": "markdown",
   "metadata": {},
   "source": [
    "Add a second box 1 meter above the first one."
   ]
  },
  {
   "cell_type": "code",
   "execution_count": 43,
   "metadata": {},
   "outputs": [
    {
     "data": {
      "text/plain": [
       "0"
      ]
     },
     "execution_count": 43,
     "metadata": {},
     "output_type": "execute_result"
    }
   ],
   "source": [
    "box2 = C.addFrame(name=\"box2\", parent=\"box1\")\n",
    "box2.setShape(ry.ST.ssBox, size=[.5, .5, .5, .05])\n",
    "box2.setRelativePosition([0,0,1])\n",
    "box2.setColor([0,0,1])\n",
    "\n",
    "C.view()"
   ]
  },
  {
   "cell_type": "markdown",
   "metadata": {},
   "source": [
    "Display the position and orientation of the second box."
   ]
  },
  {
   "cell_type": "code",
   "execution_count": 31,
   "metadata": {},
   "outputs": [
    {
     "name": "stdout",
     "output_type": "stream",
     "text": [
      "position: [0.   0.   1.25]\n",
      "orientation: [1. 0. 0. 0.]\n"
     ]
    }
   ],
   "source": [
    "f = C.getFrame(\"box2\")\n",
    "print(\"position:\", f.getPosition()) \n",
    "print(\"orientation:\", f.getQuaternion())"
   ]
  },
  {
   "cell_type": "markdown",
   "metadata": {},
   "source": [
    "# Creating Two Link Manipulator"
   ]
  },
  {
   "cell_type": "markdown",
   "metadata": {},
   "source": [
    "We will create a two-link planar manipulator system using .g files. The two_link_manipulator.g file defines the links and joints of the manipulator. We simply need to use the ry.addFile() method to add the contents of the .g files to the configuration. Additionally, we will include the Franka Panda robot using these files."
   ]
  },
  {
   "cell_type": "code",
   "execution_count": 3,
   "metadata": {},
   "outputs": [
    {
     "data": {
      "text/plain": [
       "0"
      ]
     },
     "execution_count": 3,
     "metadata": {},
     "output_type": "execute_result"
    }
   ],
   "source": [
    "K = ry.Config()\n",
    "K.addFile(\"two_link_manipulator.g\")\n",
    "K.view()"
   ]
  },
  {
   "cell_type": "markdown",
   "metadata": {},
   "source": [
    "# Features"
   ]
  },
  {
   "cell_type": "code",
   "execution_count": 4,
   "metadata": {},
   "outputs": [
    {
     "name": "stdout",
     "output_type": "stream",
     "text": [
      "feature value: [2.81896272e-01 1.25455202e-16 8.10370138e-01] \n",
      "Jacobian: [[-1.25455202e-16  4.77370138e-01 -1.15172364e-16 -2.37213253e-01\n",
      "   0.00000000e+00  3.96841887e-02  0.00000000e+00  0.00000000e+00]\n",
      " [ 2.81896272e-01  6.25935464e-17  5.54002326e-01  2.79346636e-16\n",
      "   1.54786187e-01  2.18260648e-16  4.16333634e-17  0.00000000e+00]\n",
      " [ 0.00000000e+00 -2.81896272e-01 -1.79370329e-16  5.03226163e-01\n",
      "   0.00000000e+00  2.24676245e-01  0.00000000e+00  0.00000000e+00]]\n"
     ]
    },
    {
     "data": {
      "text/plain": [
       "0"
      ]
     },
     "execution_count": 4,
     "metadata": {},
     "output_type": "execute_result"
    }
   ],
   "source": [
    "C.clear()\n",
    "\n",
    "C = ry.Config()\n",
    "C.addFile(ry.raiPath(\"panda/panda.g\"))\n",
    "q = C.getJointState()\n",
    "[y,J] = C.eval(ry.FS.position, [\"gripper\"])\n",
    "print(\"feature value:\", y, \"\\nJacobian:\", J)\n",
    "C.view()"
   ]
  },
  {
   "cell_type": "code",
   "execution_count": 47,
   "metadata": {},
   "outputs": [],
   "source": [
    "del C\n",
    "del K"
   ]
  },
  {
   "cell_type": "markdown",
   "metadata": {},
   "source": [
    "# Inverse Kinematics"
   ]
  },
  {
   "cell_type": "markdown",
   "metadata": {},
   "source": [
    "Add Franka Panda robot to the configuration"
   ]
  },
  {
   "cell_type": "code",
   "execution_count": 5,
   "metadata": {},
   "outputs": [
    {
     "data": {
      "text/plain": [
       "0"
      ]
     },
     "execution_count": 5,
     "metadata": {},
     "output_type": "execute_result"
    }
   ],
   "source": [
    "import robotic as ry\n",
    "import numpy as np\n",
    "import time\n",
    "C = ry.Config()\n",
    "C.addFile(ry.raiPath(\"../rai-robotModels/scenarios/pandaSingle.g\"))\n",
    "C.view()"
   ]
  },
  {
   "cell_type": "markdown",
   "metadata": {},
   "source": [
    "Add the target frame"
   ]
  },
  {
   "cell_type": "code",
   "execution_count": 49,
   "metadata": {},
   "outputs": [
    {
     "data": {
      "text/plain": [
       "0"
      ]
     },
     "execution_count": 49,
     "metadata": {},
     "output_type": "execute_result"
    }
   ],
   "source": [
    "target = C.addFrame(\"target\", \"table\")\n",
    "target.setShape(ry.ST.marker, [.1])\n",
    "target.setRelativePosition([0., .3, .3])\n",
    "pos = target.getPosition()\n",
    "cen = pos.copy()\n",
    "C.view()"
   ]
  },
  {
   "cell_type": "markdown",
   "metadata": {},
   "source": [
    "A basic inverse kinematics approach"
   ]
  },
  {
   "cell_type": "code",
   "execution_count": 50,
   "metadata": {},
   "outputs": [],
   "source": [
    "def IK(C, target, qHome):\n",
    "    q0 = C.getJointState()\n",
    "    komo = ry.KOMO(C, 1, 1, 0, False)\n",
    "    komo.addObjective([], ry.FS.accumulatedCollisions, [], ry.OT.eq)\n",
    "    komo.addObjective([], ry.FS.jointState, [], ry.OT.sos, [1e-1], q0)\n",
    "    komo.addObjective([], ry.FS.jointState, [], ry.OT.sos\n",
    "    , [1e-1], qHome)\n",
    "    komo.addObjective([], ry.FS.positionDiff, [\"l_gripper\", target]\n",
    "    , ry.OT.eq, [1e1])\n",
    "    ret = ry.NLP_Solver(komo.nlp(), verbose=0) .solve()\n",
    "    return [komo.getPath()[0], ret]"
   ]
  },
  {
   "cell_type": "code",
   "execution_count": 59,
   "metadata": {},
   "outputs": [
    {
     "name": "stdout",
     "output_type": "stream",
     "text": [
      "{ time: 0, evals: 2, done: 1, feasible: 1, sos: 2.79005e-06, f: 0, ineq: 0, eq: 0.00319627 }\n"
     ]
    },
    {
     "data": {
      "text/plain": [
       "0"
      ]
     },
     "execution_count": 59,
     "metadata": {},
     "output_type": "execute_result"
    }
   ],
   "source": [
    "qHome = C.getJointState()\n",
    "q_target, ret = IK(C, \"target\", qHome)\n",
    "print(ret)\n",
    "C.setJointState(q_target)\n",
    "C.view()"
   ]
  },
  {
   "cell_type": "markdown",
   "metadata": {},
   "source": [
    "Now let’s do it in the loop for better understanding"
   ]
  },
  {
   "cell_type": "code",
   "execution_count": 56,
   "metadata": {},
   "outputs": [
    {
     "name": "stdout",
     "output_type": "stream",
     "text": [
      "{ time: 0, evals: 4, done: 1, feasible: 1, sos: 0.00661756, f: 0, ineq: 0, eq: 0.000590513 }\n",
      "{ time: 0, evals: 4, done: 1, feasible: 1, sos: 0.00717408, f: 0, ineq: 0, eq: 0.000231789 }\n",
      "{ time: 0, evals: 3, done: 1, feasible: 1, sos: 0.00806265, f: 0, ineq: 0, eq: 0.00225842 }\n",
      "{ time: 0, evals: 3, done: 1, feasible: 1, sos: 0.00706853, f: 0, ineq: 0, eq: 0.00198999 }\n",
      "{ time: 0, evals: 4, done: 1, feasible: 1, sos: 0.00486832, f: 0, ineq: 0, eq: 0.000523937 }\n",
      "{ time: 0, evals: 4, done: 1, feasible: 1, sos: 0.00445312, f: 0, ineq: 0, eq: 0.000204144 }\n",
      "{ time: 0, evals: 4, done: 1, feasible: 1, sos: 0.0043105, f: 0, ineq: 0, eq: 0.00020936 }\n",
      "{ time: 0, evals: 4, done: 1, feasible: 1, sos: 0.00457571, f: 0, ineq: 0, eq: 0.000296167 }\n",
      "{ time: 0, evals: 3, done: 1, feasible: 1, sos: 0.0049149, f: 0, ineq: 0, eq: 0.00157833 }\n",
      "{ time: 0, evals: 4, done: 1, feasible: 1, sos: 0.00569002, f: 0, ineq: 0, eq: 0.000195494 }\n",
      "{ time: 0, evals: 4, done: 1, feasible: 1, sos: 0.0059368, f: 0, ineq: 0, eq: 0.000193516 }\n",
      "{ time: 0, evals: 3, done: 1, feasible: 1, sos: 0.00602413, f: 0, ineq: 0, eq: 0.00193498 }\n",
      "{ time: 0, evals: 4, done: 1, feasible: 1, sos: 0.00617134, f: 0, ineq: 0, eq: 0.000258397 }\n",
      "{ time: 0, evals: 3, done: 1, feasible: 1, sos: 0.00651304, f: 0, ineq: 0, eq: 0.00225216 }\n",
      "{ time: 0, evals: 3, done: 1, feasible: 1, sos: 0.0051424, f: 0, ineq: 0, eq: 0.00492737 }\n",
      "{ time: 0, evals: 3, done: 1, feasible: 1, sos: 0.00534878, f: 0, ineq: 0, eq: 0.00125795 }\n",
      "{ time: 0, evals: 3, done: 1, feasible: 1, sos: 0.00476364, f: 0, ineq: 0, eq: 0.00246022 }\n",
      "{ time: 0, evals: 3, done: 1, feasible: 1, sos: 0.00514515, f: 0, ineq: 0, eq: 0.00188222 }\n",
      "{ time: 0, evals: 4, done: 1, feasible: 1, sos: 0.0066006, f: 0, ineq: 0, eq: 0.000220727 }\n",
      "{ time: 0, evals: 3, done: 1, feasible: 1, sos: 0.00722189, f: 0, ineq: 0, eq: 0.00331414 }\n"
     ]
    }
   ],
   "source": [
    "for t in range(20):\n",
    "    time.sleep(.1)\n",
    "    pos = cen + .98 * (pos-cen) + 0.02 * np.random.randn(3)\n",
    "    target.setPosition(pos)\n",
    "    q_target, ret = IK(C, \"target\", qHome)\n",
    "    print(ret)\n",
    "    C.setJointState(q_target)\n",
    "    C.view()"
   ]
  },
  {
   "cell_type": "markdown",
   "metadata": {},
   "source": [
    "# Theory of Inverse Kinematics"
   ]
  },
  {
   "cell_type": "markdown",
   "metadata": {},
   "source": [
    "Now, we will solve IK numerically from scratch. Here, we will use the theory behind it, and we will help our robot reach its goal step by step. For this, we will return to our two-link manipulator."
   ]
  },
  {
   "cell_type": "code",
   "execution_count": 57,
   "metadata": {},
   "outputs": [
    {
     "data": {
      "text/plain": [
       "0"
      ]
     },
     "execution_count": 57,
     "metadata": {},
     "output_type": "execute_result"
    }
   ],
   "source": [
    "import robotic as ry\n",
    "import numpy as np\n",
    "K = ry.Config()\n",
    "K.addFile(\"two_link_manipulator.g\")\n",
    "K.view()"
   ]
  },
  {
   "cell_type": "markdown",
   "metadata": {},
   "source": [
    "And here is the basic implementation of theoretical inverse kinematics."
   ]
  },
  {
   "cell_type": "code",
   "execution_count": 58,
   "metadata": {},
   "outputs": [],
   "source": [
    "n = K.getJointDimension()\n",
    "q = K.getJointState()\n",
    "w = 1e-1\n",
    "W = w * np.identity(n)\n",
    "y_target = [0.0, 0.7, 0.7]\n",
    "\n",
    "for i in range(10):\n",
    "    y, J = K.eval(ry.FS.position, [\"end-effector\"])\n",
    "    q += np.linalg.inv(J.T @ J + W) @ J.T @ (y_target - y)\n",
    "    K.setJointState(q)\n",
    "    K.view()"
   ]
  }
 ],
 "metadata": {
  "kernelspec": {
   "display_name": "Python 3",
   "language": "python",
   "name": "python3"
  },
  "language_info": {
   "codemirror_mode": {
    "name": "ipython",
    "version": 3
   },
   "file_extension": ".py",
   "mimetype": "text/x-python",
   "name": "python",
   "nbconvert_exporter": "python",
   "pygments_lexer": "ipython3",
   "version": "3.8.10"
  }
 },
 "nbformat": 4,
 "nbformat_minor": 2
}
