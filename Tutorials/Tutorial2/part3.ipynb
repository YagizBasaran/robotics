{
 "cells": [
  {
   "cell_type": "code",
   "execution_count": 1,
   "metadata": {},
   "outputs": [],
   "source": [
    "import robotic as ry\n",
    "import numpy as np\n",
    "import time\n",
    "import os\n",
    "os.environ['DISPLAY'] = ':0'"
   ]
  },
  {
   "cell_type": "code",
   "execution_count": 8,
   "metadata": {},
   "outputs": [
    {
     "name": "stdout",
     "output_type": "stream",
     "text": [
      "botsim/verbose: 2,\n",
      "physx/motorKp: 10000,\n",
      "physx/motorKd: 1000,\n",
      "botsim/engine: physx,\n",
      "physx/multibody,\n",
      "bot/useGripper,\n",
      "bot/blockRealRobot!,\n",
      "botsim/tau: 0.01,\n",
      "botsim/hyperSpeed: 1,\n",
      "physx/verbose: 1,\n",
      "physx/yGravity!,\n",
      "physx/softBody!,\n",
      "physx/multiBody,\n",
      "physx/multiBodyDisableGravity,\n",
      "physx/jointedBodies!,\n",
      "physx/angularDamping: 0.1,\n",
      "physx/defaultFriction: 1,\n",
      "physx/defaultRestitution: 0.1,\n",
      "sim/displayVisualsOnly,\n",
      "bot/useOptitrack!,\n",
      "bot/useAudio!,\n",
      "botsim/verbose: 2,\n",
      "physx/motorKp: 10000,\n",
      "physx/motorKd: 1000,\n",
      "botsim/engine: physx,\n",
      "physx/multibody"
     ]
    }
   ],
   "source": [
    "ry.params_add({'botsim/verbose': 2., 'physx/motorKp': 10000., 'physx/motorKd': 1000.})\n",
    "#ry.params_add({'botsim/verbose': 2., 'physx/motorKp': 0., 'physx/motorKd': 0.})\n",
    "ry.params_add({'botsim/engine': 'physx'}) \n",
    "ry.params_add({'physx/multibody': True})\n",
    "ry.params_print()"
   ]
  },
  {
   "cell_type": "code",
   "execution_count": 10,
   "metadata": {},
   "outputs": [
    {
     "data": {
      "text/plain": [
       "0"
      ]
     },
     "execution_count": 10,
     "metadata": {},
     "output_type": "execute_result"
    }
   ],
   "source": [
    "C = ry.Config()\n",
    "C.addFile(ry.raiPath('../rai-robotModels/scenarios/pandaSingle.g'))\n",
    "C.view(False, 'this is your workspace data structure C -- NOT THE SIMULTATION')"
   ]
  },
  {
   "cell_type": "code",
   "execution_count": 11,
   "metadata": {},
   "outputs": [
    {
     "name": "stdout",
     "output_type": "stream",
     "text": [
      "-- kin_physx.cpp:PhysXInterface:779(0) starting PhysX engine ... (multiBody=1)\n",
      "-- kin_physx.cpp:addGround:237(0) ... done starting PhysX engine\n",
      "-- kin_physx.cpp:addGround:238(0) creating Configuration within PhysX ...\n",
      "-- kin_physx.cpp:addLink:258(0) adding link 'world' as static with 1 shapes ( table)\n",
      "-- kin_physx.cpp:addMultiBody:469(0) adding multibody with base 'l_panda_base' with the following links ...\n",
      "-- kin_physx.cpp:addMultiBody:509(0) adding multibody link 'l_panda_base' as kinematic with 1 shapes ( l_panda_link0_0) and joint rigid and mass 2.9873\n",
      "-- kin_physx.cpp:addMultiBody:509(0) adding multibody link 'l_panda_joint1' as dynamic with 1 shapes ( l_panda_link1_0) and joint hingeZ and mass 2.9646\n",
      "-- kin_physx.cpp:addMultiBody:509(0) adding multibody link 'l_panda_joint2' as dynamic with 1 shapes ( l_panda_link2_0) and joint hingeZ and mass 2.99224\n",
      "-- kin_physx.cpp:addMultiBody:509(0) adding multibody link 'l_panda_joint3' as dynamic with 1 shapes ( l_panda_link3_0) and joint hingeZ and mass 2.30983\n",
      "-- kin_physx.cpp:addMultiBody:509(0) adding multibody link 'l_panda_joint4' as dynamic with 1 shapes ( l_panda_link4_0) and joint hingeZ and mass 2.35624\n",
      "-- kin_physx.cpp:addMultiBody:509(0) adding multibody link 'l_panda_joint5' as dynamic with 1 shapes ( l_panda_link5_0) and joint hingeZ and mass 3.38234\n",
      "-- kin_physx.cpp:addMultiBody:509(0) adding multibody link 'l_panda_joint6' as dynamic with 1 shapes ( l_panda_link6_0) and joint hingeZ and mass 1.42754\n",
      "-- kin_physx.cpp:addMultiBody:509(0) adding multibody link 'l_panda_joint7' as dynamic with 2 shapes ( l_panda_link7_0 l_panda_hand_0) and joint hingeZ and mass 1.14498\n",
      "-- kin_physx.cpp:addMultiBody:509(0) adding multibody link 'l_panda_finger_joint1' as dynamic with 1 shapes ( l_panda_leftfinger_0) and joint transY and mass 0.0216217\n",
      "-- kin_physx.cpp:addMultiBody:509(0) adding multibody link 'l_panda_finger_joint2' as dynamic with 1 shapes ( l_panda_rightfinger_0) and joint transY and mass 0.0216217\n",
      "-- kin_physx.cpp:addMultiBody:602(0) ... done with multibody with base 'l_panda_base'\n",
      "-- kin_physx.cpp:PhysXInterface:816(0) ... done creating Configuration within PhysX\n"
     ]
    }
   ],
   "source": [
    "bot = ry.BotOp(C, False)"
   ]
  },
  {
   "cell_type": "code",
   "execution_count": 5,
   "metadata": {},
   "outputs": [
    {
     "name": "stdout",
     "output_type": "stream",
     "text": [
      "-- bot.cpp:~BotOp:135(0) shutting down BotOp...\n",
      "-- simulation.cpp:~BotThreadedSim:57(0) shutting down SimThread\n",
      "-- simulation.cpp:~Simulation:148(0) shutting down Simulation\n"
     ]
    }
   ],
   "source": [
    "del bot\n",
    "del C"
   ]
  },
  {
   "cell_type": "code",
   "execution_count": 12,
   "metadata": {},
   "outputs": [
    {
     "name": "stdout",
     "output_type": "stream",
     "text": [
      "[ 0.  -0.5  0.  -2.   0.   2.  -0.5] [ 0.  -0.3  0.  -2.   0.   2.  -0.5]\n"
     ]
    }
   ],
   "source": [
    "qHome = bot.get_qHome()\n",
    "q0 = qHome.copy()\n",
    "q1 = q0.copy()\n",
    "q1[1] = q1[1] + .2\n",
    "print(q0, q1)"
   ]
  },
  {
   "cell_type": "code",
   "execution_count": 13,
   "metadata": {},
   "outputs": [],
   "source": [
    "bot.moveTo(q1)\n",
    "\n",
    "while bot.getTimeToEnd()>0:\n",
    "    bot.sync(C, .1)"
   ]
  },
  {
   "cell_type": "code",
   "execution_count": 12,
   "metadata": {},
   "outputs": [
    {
     "name": "stdout",
     "output_type": "stream",
     "text": [
      "timeToEnd: -6.889999999993648\n",
      "timeToEnd: 1.095718942064991\n",
      "timeToEnd: 2.191437884129982\n"
     ]
    }
   ],
   "source": [
    "print('timeToEnd:', bot.getTimeToEnd())\n",
    "bot.moveTo(q0)\n",
    "print('timeToEnd:', bot.getTimeToEnd())\n",
    "bot.moveTo(q1)\n",
    "print('timeToEnd:', bot.getTimeToEnd())\n",
    "bot.moveTo(q0)\n",
    "\n",
    "while bot.getTimeToEnd()>0:\n",
    "    bot.sync(C, .1)"
   ]
  },
  {
   "cell_type": "code",
   "execution_count": 13,
   "metadata": {},
   "outputs": [],
   "source": [
    "#this reference frame only appears in your workspace C - not the simulation!\n",
    "target = C.addFrame('target', 'table')\n",
    "target.setShape(ry.ST.marker, [.1])\n",
    "target.setRelativePosition([0., .3, .3])\n",
    "pos = target.getPosition()\n",
    "cen = pos.copy()\n",
    "C.view()\n",
    "def IK(C, pos):\n",
    "    q0 = C.getJointState()\n",
    "    komo = ry.KOMO(C, 1, 1, 0, False) #one phase one time slice problem, with 'delta_t=1', order=0\n",
    "    komo.addObjective([], ry.FS.jointState, [], ry.OT.sos, [1e-1], q0) #cost: close to 'current state'\n",
    "    komo.addObjective([], ry.FS.jointState, [], ry.OT.sos, [1e-1], qHome) #cost: close to qHome\n",
    "    komo.addObjective([], ry.FS.positionDiff, ['l_gripper', 'target'], ry.OT.eq, [1e1]) #constraint: gripper position\n",
    "    ret = ry.NLP_Solver(komo.nlp(), verbose=0) .solve()\n",
    "\n",
    "    return [komo.getPath()[0], ret]"
   ]
  },
  {
   "cell_type": "code",
   "execution_count": 14,
   "metadata": {},
   "outputs": [
    {
     "name": "stdout",
     "output_type": "stream",
     "text": [
      "{ time: 0.000513, evals: 6, done: 1, feasible: 1, sos: 0.00652719, f: 0, ineq: 0, eq: 0.00118533 }\n",
      "{ time: 0.000368, evals: 4, done: 1, feasible: 1, sos: 0.00500819, f: 0, ineq: 0, eq: 0.000429767 }\n",
      "{ time: 0.000661, evals: 3, done: 1, feasible: 1, sos: 0.00523536, f: 0, ineq: 0, eq: 0.00306094 }\n",
      "{ time: 0.000283, evals: 3, done: 1, feasible: 1, sos: 0.00547257, f: 0, ineq: 0, eq: 0.00239756 }\n",
      "{ time: 0.000338, evals: 4, done: 1, feasible: 1, sos: 0.00477203, f: 0, ineq: 0, eq: 0.000322985 }\n",
      "{ time: 0.000298, evals: 3, done: 1, feasible: 1, sos: 0.00420615, f: 0, ineq: 0, eq: 0.00166338 }\n",
      "{ time: 0.000289, evals: 3, done: 1, feasible: 1, sos: 0.00456321, f: 0, ineq: 0, eq: 0.00316212 }\n",
      "{ time: 0.000329, evals: 4, done: 1, feasible: 1, sos: 0.00435149, f: 0, ineq: 0, eq: 0.000236083 }\n",
      "{ time: 0.000336, evals: 4, done: 1, feasible: 1, sos: 0.00462514, f: 0, ineq: 0, eq: 0.000190021 }\n",
      "{ time: 0.000322, evals: 4, done: 1, feasible: 1, sos: 0.00517754, f: 0, ineq: 0, eq: 0.000168511 }\n",
      "{ time: 0.000462, evals: 3, done: 1, feasible: 1, sos: 0.00412675, f: 0, ineq: 0, eq: 0.000973858 }\n",
      "{ time: 0.000382, evals: 4, done: 1, feasible: 1, sos: 0.0041336, f: 0, ineq: 0, eq: 0.000257439 }\n",
      "{ time: 0.000376, evals: 4, done: 1, feasible: 1, sos: 0.00484506, f: 0, ineq: 0, eq: 0.000399568 }\n",
      "{ time: 0.000298, evals: 3, done: 1, feasible: 1, sos: 0.0038813, f: 0, ineq: 0, eq: 0.000809086 }\n",
      "{ time: 0.000326, evals: 3, done: 1, feasible: 1, sos: 0.00362135, f: 0, ineq: 0, eq: 0.00166588 }\n",
      "{ time: 0.000305, evals: 3, done: 1, feasible: 1, sos: 0.00387036, f: 0, ineq: 0, eq: 0.00308064 }\n",
      "{ time: 0.000334, evals: 4, done: 1, feasible: 1, sos: 0.00445147, f: 0, ineq: 0, eq: 0.00022826 }\n",
      "{ time: 0.000295, evals: 3, done: 1, feasible: 1, sos: 0.00400147, f: 0, ineq: 0, eq: 0.00337042 }\n",
      "{ time: 0.000496, evals: 3, done: 1, feasible: 1, sos: 0.00415178, f: 0, ineq: 0, eq: 0.0038574 }\n",
      "{ time: 0.000336, evals: 4, done: 1, feasible: 1, sos: 0.00609466, f: 0, ineq: 0, eq: 0.000541189 }\n"
     ]
    }
   ],
   "source": [
    "for t in range(20):\n",
    "    time.sleep(.1)\n",
    "    pos = cen + .98 * (pos-cen) + 0.02 * np.random.randn(3)\n",
    "    target.setPosition(pos)\n",
    "\n",
    "    q_target, ret = IK(C, pos)\n",
    "    print(ret)\n",
    "    C.setJointState(q_target)\n",
    "    C.view()"
   ]
  },
  {
   "cell_type": "code",
   "execution_count": 17,
   "metadata": {},
   "outputs": [],
   "source": [
    "for t in range(100):\n",
    "    bot.sync(C, .1) #keep the workspace C sync'ed to real/sim, and idle .1 sec\n",
    "    pos = cen + .98 * (pos-cen) + 0.02 * np.random.randn(3)\n",
    "    target.setPosition(pos)\n",
    "\n",
    "    q_target, ret = IK(C, pos)\n",
    "    bot.moveTo(q_target, timeCost=5., overwrite=True)"
   ]
  },
  {
   "cell_type": "code",
   "execution_count": 19,
   "metadata": {},
   "outputs": [],
   "source": [
    "bot.sync(C, .1) #keep the workspace C sync'ed to real/sim, and idle .1 sec\n",
    "pos = cen + .9 * (pos-cen) + 0.1 * np.random.randn(3)\n",
    "target.setPosition(pos)\n",
    "\n",
    "q_target, ret = IK(C, pos)\n",
    "#bot.moveTo(q_target, timeCost=0.1, overwrite=True)\n",
    "bot.moveTo(q_target, timeCost=100, overwrite=True)"
   ]
  },
  {
   "cell_type": "code",
   "execution_count": 21,
   "metadata": {},
   "outputs": [],
   "source": [
    "for t in range(5):\n",
    "    bot.moveTo(q1)\n",
    "    bot.wait(C) #same as 'loop sync til keypressed or endOfTime', but also raises user window\n",
    "    if bot.getKeyPressed()==ord('q'):\n",
    "        break;\n",
    "\n",
    "    bot.moveTo(q0)\n",
    "    bot.wait(C)\n",
    "    if bot.getKeyPressed()==ord('q'):\n",
    "        break;\n",
    "\n",
    "bot.home(C)"
   ]
  },
  {
   "cell_type": "code",
   "execution_count": 22,
   "metadata": {},
   "outputs": [
    {
     "name": "stdout",
     "output_type": "stream",
     "text": [
      "-- simulation.cpp:moveGripper:329(1) initiating opening gripper l_panda_joint7 (without releasing obj) width:0.02 speed:0.2\n",
      "-- simulation.cpp:modConfiguration:868(1) terminating opening gripper l_panda_joint7 at width 0.0198\n",
      "-- simulation.cpp:moveGripper:329(1) initiating opening gripper l_panda_joint7 (without releasing obj) width:0.075 speed:0.2\n",
      "-- simulation.cpp:modConfiguration:868(1) terminating opening gripper l_panda_joint7 at width 0.04\n"
     ]
    }
   ],
   "source": [
    "bot.gripperMove(ry._left, width=.02)\n",
    "\n",
    "while not bot.gripperDone(ry._left):\n",
    "    bot.sync(C, .1)\n",
    "\n",
    "bot.gripperMove(ry._left, width=.075)\n",
    "\n",
    "while not bot.gripperDone(ry._left):\n",
    "    bot.sync(C, .1)"
   ]
  },
  {
   "cell_type": "code",
   "execution_count": 23,
   "metadata": {},
   "outputs": [
    {
     "name": "stdout",
     "output_type": "stream",
     "text": [
      "-- bot.cpp:~BotOp:135(0) shutting down BotOp...\n",
      "-- simulation.cpp:~BotThreadedSim:57(0) shutting down SimThread\n",
      "-- simulation.cpp:~Simulation:148(0) shutting down Simulation\n"
     ]
    }
   ],
   "source": [
    "del bot\n",
    "del C"
   ]
  },
  {
   "cell_type": "code",
   "execution_count": 24,
   "metadata": {},
   "outputs": [
    {
     "name": "stdout",
     "output_type": "stream",
     "text": [
      "botsim/verbose: 2,\n",
      "physx/motorKp: 10000,\n",
      "physx/motorKd: 1000,\n",
      "botsim/engine: physx,\n",
      "physx/multibody,\n",
      "botsim/verbose: 2,\n",
      "physx/motorKp: 10000,\n",
      "physx/motorKd: 1000,\n",
      "botsim/engine: physx,\n",
      "physx/multibody,\n",
      "bot/useGripper,\n",
      "bot/blockRealRobot!,\n",
      "botsim/tau: 0.01,\n",
      "botsim/hyperSpeed: 1,\n",
      "physx/verbose: 1,\n",
      "physx/yGravity!,\n",
      "physx/softBody!,\n",
      "physx/multiBody,\n",
      "physx/multiBodyDisableGravity,\n",
      "physx/jointedBodies!,\n",
      "physx/angularDamping: 0.1,\n",
      "physx/defaultFriction: 1,\n",
      "physx/defaultRestitution: 0.1,\n",
      "sim/displayVisualsOnly,\n",
      "bot/useOptitrack!,\n",
      "bot/useAudio!,\n",
      "bot/raiseWindow!,\n",
      "KOMO/verbose: 1,\n",
      "KOMO/animateOptimization: 0,\n",
      "KOMO/mimicStable,\n",
      "KOMO/unscaleEqIneqReport!,\n",
      "KOMO/sampleRate_stable: 0,\n",
      "KOMO/sparse,\n",
      "opt/verbose: 1,\n",
      "opt/stopTolerance: 0.01,\n",
      "opt/stopFTolerance: -1,\n",
      "opt/stopGTolerance: -1,\n",
      "opt/stopEvals: 1000,\n",
      "opt/stopInners: 1000,\n",
      "opt/stopOuters: 1000,\n",
      "opt/stopLineSteps: 10,\n",
      "opt/stopTinySteps: 10,\n",
      "opt/initStep: 1,\n",
      "opt/minStep: -1,\n",
      "opt/maxStep: 0.2,\n",
      "opt/damping: 1,\n",
      "opt/stepInc: 1.5,\n",
      "opt/stepDec: 0.5,\n",
      "opt/wolfe: 0.01,\n",
      "opt/boundedNewton,\n",
      "opt/muInit: 1,\n",
      "opt/muInc: 5,\n",
      "opt/muMax: 10000,\n",
      "opt/muLBInit: 0.1,\n",
      "opt/muLBDec: 0.2,\n",
      "opt/maxLambda: -1,\n",
      "opt/constrainedMethod: ,\n",
      "seed: 0"
     ]
    }
   ],
   "source": [
    "ry.params_print()"
   ]
  }
 ],
 "metadata": {
  "kernelspec": {
   "display_name": "Python 3",
   "language": "python",
   "name": "python3"
  },
  "language_info": {
   "codemirror_mode": {
    "name": "ipython",
    "version": 3
   },
   "file_extension": ".py",
   "mimetype": "text/x-python",
   "name": "python",
   "nbconvert_exporter": "python",
   "pygments_lexer": "ipython3",
   "version": "3.8.10"
  },
  "orig_nbformat": 4
 },
 "nbformat": 4,
 "nbformat_minor": 2
}
