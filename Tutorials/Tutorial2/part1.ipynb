{
 "cells": [
  {
   "cell_type": "markdown",
   "metadata": {},
   "source": [
    "## Motion Planning through KOMO ##"
   ]
  },
  {
   "cell_type": "code",
   "execution_count": 1,
   "metadata": {},
   "outputs": [],
   "source": [
    "import robotic as ry\n",
    "import numpy as np\n",
    "import time\n",
    "import os\n",
    "os.environ['DISPLAY'] = ':0'"
   ]
  },
  {
   "attachments": {},
   "cell_type": "markdown",
   "metadata": {},
   "source": [
    "## Part a) Adding a constraint to simulation"
   ]
  },
  {
   "cell_type": "code",
   "execution_count": 2,
   "metadata": {},
   "outputs": [],
   "source": [
    "C = ry.Config()\n",
    "C.addFile(ry.raiPath('scenarios/pandaSingle.g'))\n",
    "C.addFrame('way1'). setShape(ry.ST.marker, [.1]) .setPosition([.4, .2, 1.])\n",
    "C.addFrame('way3'). setShape(ry.ST.marker, [.1]) .setPosition([-.4, .2, 1.])\n",
    "\n",
    "C.addFrame('box') \\\n",
    "    .setPosition([-.25,.1,1.]) \\\n",
    "    .setShape(ry.ST.ssBox, size=[.06,.6,.6,.005]) \\\n",
    "    .setColor([1,.5,0]) \\\n",
    "    .setContact(True)\n",
    "\n",
    "C.view()\n",
    "qHome = C.getJointState()"
   ]
  },
  {
   "attachments": {},
   "cell_type": "markdown",
   "metadata": {},
   "source": [
    "First, solve the task without collision constraint"
   ]
  },
  {
   "cell_type": "code",
   "execution_count": 3,
   "metadata": {},
   "outputs": [
    {
     "name": "stdout",
     "output_type": "stream",
     "text": [
      "{ time: 0.0625, evals: 15, done: 1, feasible: 1, sos: 1.91679, f: 0, ineq: 0, eq: 0.00143212 }\n",
      "[[-3.72622209e-02 -4.52749606e-01 -3.79159291e-02 -2.00577309e+00\n",
      "  -8.94814888e-03  2.01389406e+00 -4.99968271e-01]\n",
      " [-7.45657906e-02 -4.05447715e-01 -7.58679711e-02 -2.01154783e+00\n",
      "  -1.79003189e-02  2.02780033e+00 -4.99936725e-01]\n",
      " [-1.11952006e-01 -3.58042992e-01 -1.13892299e-01 -2.01732601e+00\n",
      "  -2.68606437e-02  2.04173097e+00 -4.99905544e-01]\n",
      " [-1.49462065e-01 -3.10484418e-01 -1.52025208e-01 -2.02310965e+00\n",
      "  -3.58334814e-02  2.05569791e+00 -4.99874906e-01]\n",
      " [-1.87137029e-01 -2.62721413e-01 -1.90303184e-01 -2.02890110e+00\n",
      "  -4.48235245e-02  2.06971287e+00 -4.99844986e-01]\n",
      " [-2.25017799e-01 -2.14703928e-01 -2.28762981e-01 -2.03470314e+00\n",
      "  -5.38359067e-02  2.08378724e+00 -4.99815953e-01]\n",
      " [-2.63145110e-01 -1.66382491e-01 -2.67441706e-01 -2.04051904e+00\n",
      "  -6.28763059e-02  2.09793214e+00 -4.99787972e-01]\n",
      " [-3.01559542e-01 -1.17708213e-01 -3.06376916e-01 -2.04635258e+00\n",
      "  -7.19510399e-02  2.11215836e+00 -4.99761196e-01]\n",
      " [-3.40301562e-01 -6.86327410e-02 -3.45606726e-01 -2.05220806e+00\n",
      "  -8.10671546e-02  2.12647643e+00 -4.99735773e-01]\n",
      " [-3.79411582e-01 -1.91081751e-02 -3.85169926e-01 -2.05809029e+00\n",
      "  -9.02325011e-02  2.14089667e+00 -4.99711838e-01]\n",
      " [-3.40094619e-01 -2.49934437e-02 -3.45768296e-01 -2.05823065e+00\n",
      "  -8.12505299e-02  2.13912679e+00 -4.99689516e-01]\n",
      " [-3.01145785e-01 -3.03496736e-02 -3.06699920e-01 -2.05838881e+00\n",
      "  -7.23177523e-02  2.13748683e+00 -4.99668921e-01]\n",
      " [-2.62524802e-01 -3.51455107e-02 -2.67925872e-01 -2.05855127e+00\n",
      "  -6.34262765e-02  2.13599381e+00 -4.99650153e-01]\n",
      " [-2.24191350e-01 -3.93514304e-02 -2.29407895e-01 -2.05870549e+00\n",
      "  -5.45690105e-02  2.13466371e+00 -4.99633297e-01]\n",
      " [-1.86105014e-01 -4.29404913e-02 -1.91108287e-01 -2.05884018e+00\n",
      "  -4.57395826e-02  2.13351103e+00 -4.99618426e-01]\n",
      " [-1.48225248e-01 -4.58890245e-02 -1.52989792e-01 -2.05894553e+00\n",
      "  -3.69322531e-02  2.13254837e+00 -4.99605596e-01]\n",
      " [-1.10511367e-01 -4.81772491e-02 -1.15015501e-01 -2.05901339e+00\n",
      "  -2.81418169e-02  2.13178602e+00 -4.99594848e-01]\n",
      " [-7.29225560e-02 -4.97898018e-02 -7.71487750e-02 -2.05903748e+00\n",
      "  -1.93635026e-02  2.13123164e+00 -4.99586206e-01]\n",
      " [-3.54178963e-02 -5.07161801e-02 -3.93531639e-02 -2.05901351e+00\n",
      "  -1.05928677e-02  2.13088993e+00 -4.99579681e-01]\n",
      " [ 2.04359643e-03 -5.09510957e-02 -1.59235038e-03 -2.05893934e+00\n",
      "  -1.82569305e-03  2.13076246e+00 -4.99575264e-01]\n",
      " [ 3.95029252e-02 -5.04947461e-02  3.61699078e-02 -2.05881505e+00\n",
      "   6.94212272e-03  2.13084739e+00 -4.99572931e-01]\n",
      " [ 7.70010609e-02 -4.93530070e-02  7.39698269e-02 -2.05864308e+00\n",
      "   1.57146672e-02  2.13113937e+00 -4.99572642e-01]\n",
      " [ 1.14578893e-01 -4.75375589e-02  1.11843643e-01 -2.05842827e+00\n",
      "   2.44961159e-02  2.13162938e+00 -4.99574339e-01]\n",
      " [ 1.52277184e-01 -4.50659609e-02  1.49827661e-01 -2.05817797e+00\n",
      "   3.32908306e-02  2.13230463e+00 -4.99577951e-01]\n",
      " [ 1.90136534e-01 -4.19616882e-02  1.87958301e-01 -2.05790213e+00\n",
      "   4.21034532e-02  2.13314848e+00 -4.99583390e-01]\n",
      " [ 2.28197360e-01 -3.82541568e-02  2.26272152e-01 -2.05761339e+00\n",
      "   5.09389940e-02  2.13414031e+00 -4.99590554e-01]\n",
      " [ 2.66499885e-01 -3.39787630e-02  2.64806037e-01 -2.05732726e+00\n",
      "   5.98029129e-02  2.13525543e+00 -4.99599326e-01]\n",
      " [ 3.05084148e-01 -2.91769730e-02  3.03597071e-01 -2.05706225e+00\n",
      "   6.87011914e-02  2.13646487e+00 -4.99609578e-01]\n",
      " [ 3.43990036e-01 -2.38965068e-02  3.42682740e-01 -2.05684019e+00\n",
      "   7.76403932e-02  2.13773513e+00 -4.99621168e-01]\n",
      " [ 3.83257325e-01 -1.81916716e-02  3.82100977e-01 -2.05668652e+00\n",
      "   8.66277111e-02  2.13902782e+00 -4.99633945e-01]\n",
      " [ 3.43857086e-01 -2.35249711e-02  3.42715183e-01 -2.05663394e+00\n",
      "   7.76014549e-02  2.13788749e+00 -4.99647748e-01]\n",
      " [ 3.04819857e-01 -2.84402636e-02  3.03662751e-01 -2.05665229e+00\n",
      "   6.86235041e-02  2.13676487e+00 -4.99662408e-01]\n",
      " [ 2.66107455e-01 -3.28895080e-02  2.64906520e-01 -2.05671861e+00\n",
      "   5.96868426e-02  2.13569369e+00 -4.99677747e-01]\n",
      " [ 2.27681554e-01 -3.68310595e-02  2.26409726e-01 -2.05681352e+00\n",
      "   5.07850596e-02  2.13470287e+00 -4.99693586e-01]\n",
      " [ 1.89503620e-01 -4.02292435e-02  1.88135902e-01 -2.05692079e+00\n",
      "   4.19122912e-02  2.13381692e+00 -4.99709740e-01]\n",
      " [ 1.51534870e-01 -4.30540833e-02  1.50048784e-01 -2.05702708e+00\n",
      "   3.30631511e-02  2.13305629e+00 -4.99726022e-01]\n",
      " [ 1.13736238e-01 -4.52811281e-02  1.12112225e-01 -2.05712171e+00\n",
      "   2.42326502e-02  2.13243750e+00 -4.99742247e-01]\n",
      " [ 7.60683725e-02 -4.68913409e-02  7.42901192e-02 -2.05719648e+00\n",
      "   1.54161111e-02  2.13197339e+00 -4.99758230e-01]\n",
      " [ 3.84916336e-02 -4.78710145e-02  3.65463315e-02 -2.05724556e+00\n",
      "   6.60907683e-03  2.13167315e+00 -4.99773791e-01]\n",
      " [ 9.66116993e-04 -4.82116928e-02 -1.15535669e-03 -2.05726536e+00\n",
      "  -2.19278144e-03  2.13154248e+00 -4.99788754e-01]\n",
      " [-3.65483190e-02 -4.79100815e-02 -3.88513005e-02 -2.05725446e+00\n",
      "  -1.09937582e-02  2.13158363e+00 -4.99802951e-01]\n",
      " [-7.40920169e-02 -4.69679383e-02 -7.65780350e-02 -2.05721353e+00\n",
      "  -1.97982062e-02  2.13179554e+00 -4.99816225e-01]\n",
      " [-1.11705480e-01 -4.53919380e-02 -1.14372315e-01 -2.05714524e+00\n",
      "  -2.86106276e-02  2.13217389e+00 -4.99828425e-01]\n",
      " [-1.49429329e-01 -4.31935122e-02 -1.52271150e-01 -2.05705427e+00\n",
      "  -3.74357615e-02  2.13271117e+00 -4.99839416e-01]\n",
      " [-1.87304265e-01 -4.03886682e-02 -1.90311843e-01 -2.05694720e+00\n",
      "  -4.62786678e-02  2.13339685e+00 -4.99849075e-01]\n",
      " [-2.25371037e-01 -3.69977964e-02 -2.28532022e-01 -2.05683254e+00\n",
      "  -5.51448059e-02  2.13421736e+00 -4.99857294e-01]\n",
      " [-2.63670410e-01 -3.30454804e-02 -2.66969678e-01 -2.05672073e+00\n",
      "  -6.40401061e-02  2.13515623e+00 -4.99863983e-01]\n",
      " [-3.02243152e-01 -2.85603277e-02 -3.05663202e-01 -2.05662412e+00\n",
      "  -7.29710344e-02  2.13619410e+00 -4.99869065e-01]\n",
      " [-3.41130021e-01 -2.35748485e-02 -3.44651422e-01 -2.05655712e+00\n",
      "  -8.19446462e-02  2.13730872e+00 -4.99872485e-01]\n",
      " [-3.80371772e-01 -1.81254119e-02 -3.83973641e-01 -2.05653627e+00\n",
      "  -9.09686300e-02  2.13847484e+00 -4.99874205e-01]]\n"
     ]
    }
   ],
   "source": [
    "C.setJointState(qHome)\n",
    "#(config, something with frames, robot speed,?,?)\n",
    "komo = ry.KOMO(C, 5, 10, 1, True)\n",
    "komo.addControlObjective([], 0, 1e-1)\n",
    "komo.addControlObjective([], 1, 1e0)\n",
    "komo.addObjective([1], ry.FS.positionDiff, ['l_gripper', 'way1'], ry.OT.eq, [1e1])\n",
    "komo.addObjective([3], ry.FS.positionDiff, ['l_gripper', 'way3'], ry.OT.eq, [1e1])\n",
    "komo.addObjective([5], ry.FS.positionDiff, ['l_gripper', 'way1'], ry.OT.eq, [1e1])\n",
    "\n",
    "ret = ry.NLP_Solver(komo.nlp(), verbose=0 ) .solve()\n",
    "print(ret)\n",
    "q = komo.getPath()\n",
    "print(q)\n",
    "\n",
    "for t in range(q.shape[0]):\n",
    "    C.setJointState(q[t])\n",
    "    C.view(False, f'waypoint {t}')\n",
    "    time.sleep(0.1)"
   ]
  },
  {
   "cell_type": "code",
   "execution_count": 4,
   "metadata": {},
   "outputs": [],
   "source": [
    "del komo\n",
    "del C"
   ]
  },
  {
   "attachments": {},
   "cell_type": "markdown",
   "metadata": {},
   "source": [
    "Then, we add collision constraint with \"accumulatedCollisions\" feature"
   ]
  },
  {
   "cell_type": "code",
   "execution_count": 5,
   "metadata": {},
   "outputs": [],
   "source": [
    "C = ry.Config()\n",
    "C.addFile(ry.raiPath('scenarios/pandaSingle.g')) #robot arm\n",
    "#                                          size                 x  y   z\n",
    "C.addFrame('way1'). setShape(ry.ST.marker, [.1]) .setPosition([.4, .2, 1.])\n",
    "C.addFrame('way3'). setShape(ry.ST.marker, [.1]) .setPosition([-.4, .2, 1.])\n",
    "\n",
    "C.addFrame('box') \\\n",
    "    .setPosition([-.25,.1,1.]) \\\n",
    "    .setShape(ry.ST.ssBox, size=[.06,.6,.6,.005]) \\\n",
    "    .setColor([1,.5,0]) \\\n",
    "    .setContact(True)\n",
    "\n",
    "C.view()\n",
    "qHome = C.getJointState()"
   ]
  },
  {
   "attachments": {},
   "cell_type": "markdown",
   "metadata": {},
   "source": [
    "But we see that there is a jump in the motion while passing the obstacle\n",
    "\n",
    "Here we will see the importance of the scale of the constraint (give values 0, 100 and 1 (which is default one) relatively). Then put 0.1 (1e-1) for perfect case. Do not forget to Del K and C or restart."
   ]
  },
  {
   "cell_type": "code",
   "execution_count": 6,
   "metadata": {},
   "outputs": [
    {
     "name": "stdout",
     "output_type": "stream",
     "text": [
      "{ time: 0.5, evals: 89, done: 1, feasible: 1, sos: 3.14134, f: 0, ineq: 0, eq: 0.0666667 }\n",
      "[[-3.66513291e-02 -4.50936007e-01 -3.82874753e-02 -2.00291224e+00\n",
      "  -9.52815622e-03  2.00952288e+00 -4.98362830e-01]\n",
      " [-7.33327290e-02 -4.01816056e-01 -7.66166992e-02 -2.00581677e+00\n",
      "  -1.90768967e-02  2.01903859e+00 -4.96721003e-01]\n",
      " [-1.10074253e-01 -3.52584112e-01 -1.15029484e-01 -2.00870583e+00\n",
      "  -2.86669271e-02  2.02853992e+00 -4.95069837e-01]\n",
      " [-1.46905920e-01 -3.03183997e-01 -1.53567767e-01 -2.01157161e+00\n",
      "  -3.83191962e-02  2.03801954e+00 -4.93404593e-01]\n",
      " [-1.83857695e-01 -2.53559307e-01 -1.92273676e-01 -2.01440620e+00\n",
      "  -4.80550180e-02  2.04746999e+00 -4.91720449e-01]\n",
      " [-2.20959477e-01 -2.03653339e-01 -2.31189589e-01 -2.01720154e+00\n",
      "  -5.78961947e-02  2.05688363e+00 -4.90012460e-01]\n",
      " [-2.58241077e-01 -1.53409013e-01 -2.70358199e-01 -2.01994942e+00\n",
      "  -6.78651394e-02  2.06625252e+00 -4.88275527e-01]\n",
      " [-2.95732207e-01 -1.02768789e-01 -3.09822572e-01 -2.02264140e+00\n",
      "  -7.79850005e-02  2.07556842e+00 -4.86504347e-01]\n",
      " [-3.33462465e-01 -5.16745836e-02 -3.49626208e-01 -2.02526876e+00\n",
      "  -8.82797860e-02  2.08482270e+00 -4.84693369e-01]\n",
      " [-3.71461321e-01 -6.76832277e-05 -3.89813100e-01 -2.02782251e+00\n",
      "  -9.87744881e-02  2.09400627e+00 -4.82836736e-01]\n",
      " [-3.34376773e-01 -1.60853095e-02 -3.54998048e-01 -2.00907432e+00\n",
      "  -9.14958414e-02  2.09057769e+00 -4.80928233e-01]\n",
      " [-2.97524803e-01 -3.15845601e-02 -3.20563472e-01 -1.99016872e+00\n",
      "  -8.44459825e-02  2.08705282e+00 -4.78961216e-01]\n",
      " [-2.60839334e-01 -4.66181569e-02 -2.86462133e-01 -1.97103110e+00\n",
      "  -7.76288839e-02  2.08341490e+00 -4.76928562e-01]\n",
      " [-2.24252966e-01 -6.12375512e-02 -2.52646341e-01 -1.95158687e+00\n",
      "  -7.10496849e-02  2.07964607e+00 -4.74822601e-01]\n",
      " [-1.87696383e-01 -7.54926514e-02 -2.19067391e-01 -1.93176174e+00\n",
      "  -6.47146472e-02  2.07572710e+00 -4.72635082e-01]\n",
      " [-1.51097729e-01 -8.94314959e-02 -1.85674975e-01 -1.91148208e+00\n",
      "  -5.86310986e-02  2.07163714e+00 -4.70357135e-01]\n",
      " [-1.14381955e-01 -1.03099857e-01 -1.52416537e-01 -1.89067538e+00\n",
      "  -5.28073612e-02  2.06735332e+00 -4.67979286e-01]\n",
      " [-7.74701399e-02 -1.16540754e-01 -1.19236576e-01 -1.86927085e+00\n",
      "  -4.72526633e-02  2.06285043e+00 -4.65491502e-01]\n",
      " [-4.02787713e-02 -1.29793865e-01 -8.60758845e-02 -1.84720021e+00\n",
      "  -4.19770353e-02  2.05810042e+00 -4.62883319e-01]\n",
      " [-2.71898171e-03 -1.42894799e-01 -5.28707076e-02 -1.82439866e+00\n",
      "  -3.69911923e-02  2.05307189e+00 -4.60144052e-01]\n",
      " [ 3.53042494e-02 -1.55874231e-01 -1.95518259e-02 -1.80080613e+00\n",
      "  -3.23064101e-02  2.04772947e+00 -4.57263147e-01]\n",
      " [ 7.38929307e-02 -1.68756856e-01  1.39564510e-02 -1.77636883e+00\n",
      "  -2.79344074e-02  2.04203318e+00 -4.54230697e-01]\n",
      " [ 1.13156918e-01 -1.81560147e-01  4.77373721e-02 -1.75104118e+00\n",
      "  -2.38872544e-02  2.03593758e+00 -4.51038190e-01]\n",
      " [ 1.53214780e-01 -1.94292891e-01  8.18829115e-02 -1.72478808e+00\n",
      "  -2.01773370e-02  2.02939090e+00 -4.47679539e-01]\n",
      " [ 1.94194640e-01 -2.06953469e-01  1.16494992e-01 -1.69758768e+00\n",
      "  -1.68174224e-02  2.02233402e+00 -4.44152490e-01]\n",
      " [ 2.42722146e-01 -2.10734820e-01  1.59199011e-01 -1.67727184e+00\n",
      "  -1.31203557e-02  2.01268326e+00 -4.40591324e-01]\n",
      " [ 3.31358215e-01 -1.69717437e-01  2.47831661e-01 -1.69259984e+00\n",
      "   4.75826415e-04  1.99851166e+00 -4.31570045e-01]\n",
      " [ 3.88432596e-01 -1.10116451e-01  3.02581442e-01 -1.73532427e+00\n",
      "   2.54393211e-03  1.97352878e+00 -4.28726727e-01]\n",
      " [ 4.29571896e-01 -2.80630784e-02  3.40654625e-01 -1.80395754e+00\n",
      "   2.72621692e-04  1.94514873e+00 -4.28639232e-01]\n",
      " [ 4.40658254e-01  7.88523627e-02  3.47720690e-01 -1.90407183e+00\n",
      "  -3.89212142e-03  1.91604840e+00 -4.28317638e-01]\n",
      " [ 4.27753497e-01 -3.00864475e-02  3.38185914e-01 -1.80105043e+00\n",
      "   1.71854936e-04  1.94248980e+00 -4.27760630e-01]\n",
      " [ 3.86277169e-01 -1.11456371e-01  2.99179115e-01 -1.73120237e+00\n",
      "   2.38133139e-03  1.96819790e+00 -4.26974578e-01]\n",
      " [ 3.29019745e-01 -1.70545866e-01  2.43635775e-01 -1.68695746e+00\n",
      "   1.59468941e-04  1.99052238e+00 -4.28943997e-01]\n",
      " [ 2.43044523e-01 -2.08700124e-01  1.57455189e-01 -1.67138561e+00\n",
      "  -1.32751697e-02  2.00214635e+00 -4.36652076e-01]\n",
      " [ 1.95651668e-01 -2.03761362e-01  1.15419735e-01 -1.68993302e+00\n",
      "  -1.71004559e-02  2.00949936e+00 -4.39084117e-01]\n",
      " [ 1.55088174e-01 -1.89993390e-01  8.06533296e-02 -1.71529233e+00\n",
      "  -2.07370103e-02  2.01415888e+00 -4.41486407e-01]\n",
      " [ 1.15444594e-01 -1.76070144e-01  4.63198295e-02 -1.73968479e+00\n",
      "  -2.47572480e-02  2.01820821e+00 -4.43720814e-01]\n",
      " [ 7.66025513e-02 -1.61997737e-01  1.23202239e-02 -1.76311648e+00\n",
      "  -2.91514002e-02  2.02168996e+00 -4.45782883e-01]\n",
      " [ 3.84520775e-02 -1.47769663e-01 -2.14356722e-02 -1.78560682e+00\n",
      "  -3.39108564e-02  2.02463965e+00 -4.47671403e-01]\n",
      " [ 8.91062520e-04 -1.33368664e-01 -5.50302623e-02 -1.80718595e+00\n",
      "  -3.90281201e-02  2.02708657e+00 -4.49387333e-01]\n",
      " [-3.61753536e-02 -1.18768369e-01 -8.85391864e-02 -1.82789239e+00\n",
      "  -4.44968612e-02  2.02905450e+00 -4.50932991e-01]\n",
      " [-7.28354244e-02 -1.03934735e-01 -1.22032290e-01 -1.84777117e+00\n",
      "  -5.03120264e-02  2.03056237e+00 -4.52311463e-01]\n",
      " [-1.09171449e-01 -8.88272719e-02 -1.55574533e-01 -1.86687218e+00\n",
      "  -5.64699802e-02  2.03162487e+00 -4.53526159e-01]\n",
      " [-1.45260412e-01 -7.34000881e-02 -1.89226832e-01 -1.88524889e+00\n",
      "  -6.29686601e-02  2.03225295e+00 -4.54580512e-01]\n",
      " [-1.81174616e-01 -5.76027675e-02 -2.23046843e-01 -1.90295727e+00\n",
      "  -6.98077332e-02  2.03245420e+00 -4.55477766e-01]\n",
      " [-2.16982273e-01 -4.13810971e-02 -2.57089674e-01 -1.92005494e+00\n",
      "  -7.69887500e-02  2.03223328e+00 -4.56220839e-01]\n",
      " [-2.52748095e-01 -2.46776671e-02 -2.91408554e-01 -1.93660046e+00\n",
      "  -8.45152909e-02  2.03159219e+00 -4.56812230e-01]\n",
      " [-2.88533840e-01 -7.43236303e-03 -3.26055439e-01 -1.95265275e+00\n",
      "  -9.23931068e-02  2.03053055e+00 -4.57253974e-01]\n",
      " [-3.24398854e-01  1.04172301e-02 -3.61081593e-01 -1.96827069e+00\n",
      "  -1.00630253e-01  2.02904578e+00 -4.57547611e-01]\n",
      " [-3.60400588e-01  2.89354910e-02 -3.96538126e-01 -1.98351267e+00\n",
      "  -1.09237218e-01  2.02713333e+00 -4.57694172e-01]]\n"
     ]
    }
   ],
   "source": [
    "C.setJointState(qHome)\n",
    "komo = ry.KOMO(C, 5, 10, 1, True)\n",
    "komo.addControlObjective([], 0, 1e-1)\n",
    "komo.addControlObjective([], 1, 1e0)\n",
    "komo.addObjective([], ry.FS.accumulatedCollisions, [], ry.OT.eq,[1e-1]) #difference is here\n",
    "komo.addObjective([1], ry.FS.positionDiff, ['l_gripper', 'way1'], ry.OT.eq, [1e1])\n",
    "komo.addObjective([3], ry.FS.positionDiff, ['l_gripper', 'way3'], ry.OT.eq, [1e1])\n",
    "komo.addObjective([5], ry.FS.positionDiff, ['l_gripper', 'way1'], ry.OT.eq, [1e1])\n",
    "\n",
    "ret = ry.NLP_Solver(komo.nlp(), verbose=0 ) .solve()\n",
    "print(ret)\n",
    "q = komo.getPath()\n",
    "print(q)\n",
    "\n",
    "for t in range(q.shape[0]):\n",
    "    C.setJointState(q[t])\n",
    "    C.view(False, f'waypoint {t}')\n",
    "    time.sleep(0.1)"
   ]
  },
  {
   "attachments": {},
   "cell_type": "markdown",
   "metadata": {},
   "source": [
    "komo.addObjective([], ry.FS.accumulatedCollisions, [], ry.OT.eq);\n",
    "\n",
    "    komo.addObjective(...): This is calling a method named addObjective on the komo object, which is an instance of a KOMO optimizer.\n",
    "\n",
    "    []: The first argument [] specifies the time intervals over which this objective applies. In this case, [] means it applies to all time intervals. In other words, this objective is valid for the entire duration of the optimization.\n",
    "\n",
    "    ry.FS.accumulatedCollisions: The second argument ry.FS.accumulatedCollisions is specifying the type of feature to use for this objective. In this case, it's using a feature related to accumulated collisions. This means the objective will aim to minimize the total amount of collisions that occur throughout the motion.\n",
    "\n",
    "    []: The third argument [] specifies the frames associated with this feature. Since ry.FS.accumulatedCollisions doesn't require specific frame associations, this argument is left empty.\n",
    "\n",
    "    ry.OT.eq: The fourth argument ry.OT.eq specifies the type of objective. Here, it's an equality constraint. This means the optimizer will aim to make the value of the accumulated collisions equal to a certain target value (which is default value zero in here).\n",
    "\n",
    "Putting it all together, this line is instructing the optimizer to minimize the total amount of accumulated collisions over the entire duration of the motion, treating it as an equality constraint. This is a way to prioritize collision-free or low-collision solutions."
   ]
  },
  {
   "attachments": {},
   "cell_type": "markdown",
   "metadata": {},
   "source": [
    "##  Part b) Possible State Solution by KOMO"
   ]
  },
  {
   "cell_type": "code",
   "execution_count": 7,
   "metadata": {},
   "outputs": [],
   "source": [
    "del komo\n",
    "del C"
   ]
  },
  {
   "cell_type": "code",
   "execution_count": 8,
   "metadata": {},
   "outputs": [],
   "source": [
    "C = ry.Config()\n",
    "C.addFile(ry.raiPath('scenarios/pandaSingle.g'))\n",
    "C.addFrame('way3'). setShape(ry.ST.marker, [.1]) .setPosition([-.4, .2, 1.0])\n",
    "\n",
    "C.addFrame('box') \\\n",
    "    .setPosition([-.25,.1,1.3]) \\\n",
    "    .setShape(ry.ST.ssBox, size=[.06,.7,.5,.005]) \\\n",
    "    .setColor([1,.5,0]) \\\n",
    "    .setContact(True)\n",
    "\n",
    "C.view()\n",
    "qHome = C.getJointState()"
   ]
  },
  {
   "cell_type": "code",
   "execution_count": 9,
   "metadata": {},
   "outputs": [
    {
     "name": "stdout",
     "output_type": "stream",
     "text": [
      "{ time: 1.20312, evals: 698, done: 1, feasible: 1, sos: 61.1134, f: 0, ineq: 0, eq: 0.135414 }\n",
      "size of path: (10, 7)\n"
     ]
    }
   ],
   "source": [
    "C.setJointState(qHome)\n",
    "komo = ry.KOMO(C, 1, 10, 2, True)\n",
    "komo.addControlObjective([], 0, 1e-1) \n",
    "komo.addControlObjective([], 2, 1e0)\n",
    "komo.addObjective([], ry.FS.accumulatedCollisions, [], ry.OT.eq,[1e1])\n",
    "komo.addObjective([1], ry.FS.positionDiff, ['l_gripper', 'way3'], ry.OT.eq, [1e1])\n",
    "komo.addObjective([1], ry.FS.jointState, [], ry.OT.eq, [1e1], [], order=1)\n",
    "\n",
    "ret = ry.NLP_Solver(komo.nlp(), verbose=0 ) .solve()\n",
    "print(ret)\n",
    "q = komo.getPath()\n",
    "print('size of path:', q.shape)\n",
    "\n",
    "for t in range(q.shape[0]):\n",
    "    C.setJointState(q[t])\n",
    "    C.view(False, f'waypoint {t}')\n",
    "    time.sleep(.1)"
   ]
  },
  {
   "attachments": {},
   "cell_type": "markdown",
   "metadata": {},
   "source": [
    "## Possible State Solution by RRT"
   ]
  },
  {
   "cell_type": "code",
   "execution_count": 10,
   "metadata": {},
   "outputs": [
    {
     "data": {
      "text/plain": [
       "37"
      ]
     },
     "execution_count": 10,
     "metadata": {},
     "output_type": "execute_result"
    }
   ],
   "source": [
    "# that's the goal configuration\n",
    "qT = komo.getPath()[-1]\n",
    "C.setJointState(qT)\n",
    "C.view(False, \"IK solution\")"
   ]
  },
  {
   "cell_type": "code",
   "execution_count": 11,
   "metadata": {},
   "outputs": [
    {
     "name": "stdout",
     "output_type": "stream",
     "text": [
      "{ time: 0.015625, evals: 29, done: 1, feasible: 1, sos: -1, f: -1, ineq: -1, eq: -1 }\n",
      "-- RRT_PathFinder.cpp:RRT_PathFinder:258(0) initializing with infeasible qT:\n",
      "query: h_goal: 0 g_coll: 0 isGoal: 1 isFeasible: 0\n",
      "proxy:  (box)-(l_panda_coll5) [64,51] \td=-0\n"
     ]
    }
   ],
   "source": [
    "#define a path finding problem\n",
    "rrt = ry.PathFinder()\n",
    "rrt.setProblem(C, [qHome], [qT])\n",
    "\n",
    "ret = rrt.solve()\n",
    "print(ret)\n",
    "path = ret.x"
   ]
  },
  {
   "cell_type": "code",
   "execution_count": 12,
   "metadata": {},
   "outputs": [],
   "source": [
    "# display the path\n",
    "for t in range(0, path.shape[0]-1):\n",
    "    C.setJointState(path[t])\n",
    "    C.view()\n",
    "    time.sleep(.1)"
   ]
  },
  {
   "cell_type": "code",
   "execution_count": 13,
   "metadata": {},
   "outputs": [],
   "source": [
    "del komo\n",
    "del rrt\n",
    "del C"
   ]
  },
  {
   "attachments": {},
   "cell_type": "markdown",
   "metadata": {},
   "source": [
    "Now, let us give a state which is impossible for robot arm to reach."
   ]
  },
  {
   "attachments": {},
   "cell_type": "markdown",
   "metadata": {},
   "source": [
    "##  Part c) Impossible State Solution by KOMO"
   ]
  },
  {
   "cell_type": "code",
   "execution_count": 14,
   "metadata": {},
   "outputs": [],
   "source": [
    "C = ry.Config()\n",
    "C.addFile(ry.raiPath('scenarios/pandaSingle.g'))\n",
    "C.addFrame('way3'). setShape(ry.ST.marker, [.1]) .setPosition([-.4, .2, 1.])\n",
    "\n",
    "C.addFrame('box') \\\n",
    "    .setPosition([-.25,.1,1.]) \\\n",
    "    .setShape(ry.ST.ssBox, size=[.06,.7,.7,.005]) \\\n",
    "    .setColor([1,.5,0]) \\\n",
    "    .setContact(True)\n",
    "\n",
    "C.view()\n",
    "qHome = C.getJointState()"
   ]
  },
  {
   "cell_type": "code",
   "execution_count": 15,
   "metadata": {},
   "outputs": [
    {
     "name": "stdout",
     "output_type": "stream",
     "text": [
      "{ time: 0.328125, evals: 267, done: 1, feasible: 0, sos: 27.9376, f: 0, ineq: 0, eq: 2.85125 }\n",
      "size of path: (10, 7)\n"
     ]
    }
   ],
   "source": [
    "C.setJointState(qHome)\n",
    "komo = ry.KOMO(C, 1, 10, 2, True)\n",
    "komo.addControlObjective([], 0, 1e-1) \n",
    "komo.addControlObjective([], 2, 1e0)\n",
    "komo.addObjective([], ry.FS.accumulatedCollisions, [], ry.OT.eq,[1e1])\n",
    "komo.addObjective([1], ry.FS.positionDiff, ['l_gripper', 'way3'], ry.OT.eq, [1e1])\n",
    "komo.addObjective([1], ry.FS.jointState, [], ry.OT.eq, [1e1], [], order=1)\n",
    "\n",
    "ret = ry.NLP_Solver(komo.nlp(), verbose=0 ) .solve()\n",
    "print(ret)\n",
    "q = komo.getPath()\n",
    "print('size of path:', q.shape)\n",
    "for t in range(q.shape[0]):\n",
    "    C.setJointState(q[t])\n",
    "    C.view(False, f'waypoint {t}')\n",
    "    time.sleep(.1)"
   ]
  },
  {
   "attachments": {},
   "cell_type": "markdown",
   "metadata": {},
   "source": [
    "## Impossible State Solution by RRT"
   ]
  },
  {
   "cell_type": "code",
   "execution_count": 16,
   "metadata": {},
   "outputs": [
    {
     "data": {
      "text/plain": [
       "0"
      ]
     },
     "execution_count": 16,
     "metadata": {},
     "output_type": "execute_result"
    }
   ],
   "source": [
    "# that's the goal configuration\n",
    "qT = komo.getPath()[-1]\n",
    "C.setJointState(qT)\n",
    "C.view(False, \"IK solution\")"
   ]
  },
  {
   "cell_type": "code",
   "execution_count": 17,
   "metadata": {},
   "outputs": [
    {
     "name": "stdout",
     "output_type": "stream",
     "text": [
      "-- RRT_PathFinder.cpp:RRT_PathFinder:257(0) initializing with infeasible q0:\n",
      "query: h_goal: 0 g_coll: { time: 0.515625, evals: 5001, done: 1, feasible: 0, sos: -1, f: -1, ineq: -1, eq: -1 }\n",
      "0 isGoal: 1 isFeasible: 0\n",
      "proxy:  (box)-(l_finger1) [64,58] \td=-0\n",
      "proxy:  (box)-(table) [64,1] \td=-0\n",
      "proxy:  (box)-(l_finger2) [64,59] \td=-0\n",
      "-- RRT_PathFinder.cpp:RRT_PathFinder:258(0) initializing with infeasible qT:\n",
      "query: h_goal: 0 g_coll: 0 isGoal: 1 isFeasible: 0\n",
      "proxy:  (box)-(l_finger1) [64,58] \td=-0\n",
      "proxy:  (box)-(table) [64,1] \td=-0\n",
      "proxy:  (box)-(l_finger2) [64,59] \td=-0\n"
     ]
    }
   ],
   "source": [
    "#define a path finding problem\n",
    "rrt = ry.PathFinder()\n",
    "rrt.setProblem(C, [qHome], [qT])\n",
    "\n",
    "ret = rrt.solve()\n",
    "print(ret)\n",
    "path = ret.x"
   ]
  },
  {
   "attachments": {},
   "cell_type": "markdown",
   "metadata": {},
   "source": [
    "So we will get an error since there is no feasible solution"
   ]
  },
  {
   "cell_type": "code",
   "execution_count": 18,
   "metadata": {},
   "outputs": [
    {
     "ename": "IndexError",
     "evalue": "tuple index out of range",
     "output_type": "error",
     "traceback": [
      "\u001b[0;31m---------------------------------------------------------------------------\u001b[0m",
      "\u001b[0;31mIndexError\u001b[0m                                Traceback (most recent call last)",
      "Cell \u001b[0;32mIn[18], line 2\u001b[0m\n\u001b[1;32m      1\u001b[0m \u001b[38;5;66;03m# display the path\u001b[39;00m\n\u001b[0;32m----> 2\u001b[0m \u001b[38;5;28;01mfor\u001b[39;00m t \u001b[38;5;129;01min\u001b[39;00m \u001b[38;5;28mrange\u001b[39m(\u001b[38;5;241m0\u001b[39m, \u001b[43mpath\u001b[49m\u001b[38;5;241;43m.\u001b[39;49m\u001b[43mshape\u001b[49m\u001b[43m[\u001b[49m\u001b[38;5;241;43m0\u001b[39;49m\u001b[43m]\u001b[49m\u001b[38;5;241m-\u001b[39m\u001b[38;5;241m1\u001b[39m):\n\u001b[1;32m      3\u001b[0m     C\u001b[38;5;241m.\u001b[39msetJointState(path[t])\n\u001b[1;32m      4\u001b[0m     C\u001b[38;5;241m.\u001b[39mview()\n",
      "\u001b[0;31mIndexError\u001b[0m: tuple index out of range"
     ]
    }
   ],
   "source": [
    "# display the path\n",
    "for t in range(0, path.shape[0]-1):\n",
    "    C.setJointState(path[t])\n",
    "    C.view()\n",
    "    time.sleep(.1)"
   ]
  },
  {
   "cell_type": "code",
   "execution_count": 41,
   "metadata": {},
   "outputs": [],
   "source": [
    "# https://marctoussaint.github.io/robotics-course/tutorials.html -> Tutorials\n",
    "# https://github.com/MarcToussaint/rai-tutorials/tree/main -> Tutorials\n",
    "# https://marctoussaint.github.io/robotics-course/rai.html -> Documentation"
   ]
  }
 ],
 "metadata": {
  "kernelspec": {
   "display_name": "Python 3",
   "language": "python",
   "name": "python3"
  },
  "language_info": {
   "codemirror_mode": {
    "name": "ipython",
    "version": 3
   },
   "file_extension": ".py",
   "mimetype": "text/x-python",
   "name": "python",
   "nbconvert_exporter": "python",
   "pygments_lexer": "ipython3",
   "version": "3.8.10"
  },
  "orig_nbformat": 4
 },
 "nbformat": 4,
 "nbformat_minor": 2
}
