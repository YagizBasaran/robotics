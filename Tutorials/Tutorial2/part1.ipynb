{
 "cells": [
  {
   "cell_type": "markdown",
   "metadata": {},
   "source": [
    "## Motion Planning through KOMO ##"
   ]
  },
  {
   "cell_type": "code",
   "execution_count": 6,
   "metadata": {},
   "outputs": [],
   "source": [
    "import robotic as ry\n",
    "import numpy as np\n",
    "import time\n",
    "import os\n",
    "os.environ['DISPLAY'] = ':0'"
   ]
  },
  {
   "attachments": {},
   "cell_type": "markdown",
   "metadata": {},
   "source": [
    "## Part a) Adding a constraint to simulation"
   ]
  },
  {
   "cell_type": "code",
   "execution_count": 8,
   "metadata": {},
   "outputs": [],
   "source": [
    "C = ry.Config()\n",
    "C.addFile(ry.raiPath('scenarios/pandaSingle.g'))\n",
    "C.addFrame('way1'). setShape(ry.ST.marker, [.1]) .setPosition([.4, .2, 1.])\n",
    "C.addFrame('way3'). setShape(ry.ST.marker, [.1]) .setPosition([-.4, .2, 1.])\n",
    "\n",
    "C.addFrame('box') \\\n",
    "    .setPosition([-.25,.1,1.]) \\\n",
    "    .setShape(ry.ST.ssBox, size=[.06,.6,.6,.005]) \\\n",
    "    .setColor([1,.5,0]) \\\n",
    "    .setContact(True)\n",
    "\n",
    "C.view()\n",
    "qHome = C.getJointState()"
   ]
  },
  {
   "attachments": {},
   "cell_type": "markdown",
   "metadata": {},
   "source": [
    "First, solve the task without collision constraint"
   ]
  },
  {
   "cell_type": "code",
   "execution_count": null,
   "metadata": {},
   "outputs": [],
   "source": [
    "C.setJointState(qHome)\n",
    "komo = ry.KOMO(C, 5, 10, 1, True)\n",
    "komo.addControlObjective([], 0, 1e-1)\n",
    "komo.addControlObjective([], 1, 1e0)\n",
    "komo.addObjective([1], ry.FS.positionDiff, ['l_gripper', 'way1'], ry.OT.eq, [1e1])\n",
    "komo.addObjective([3], ry.FS.positionDiff, ['l_gripper', 'way3'], ry.OT.eq, [1e1])\n",
    "komo.addObjective([5], ry.FS.positionDiff, ['l_gripper', 'way1'], ry.OT.eq, [1e1])\n",
    "\n",
    "ret = ry.NLP_Solver(komo.nlp(), verbose=0 ) .solve()\n",
    "print(ret)\n",
    "q = komo.getPath()\n",
    "print(q)\n",
    "\n",
    "for t in range(q.shape[0]):\n",
    "    C.setJointState(q[t])\n",
    "    C.view(False, f'waypoint {t}')\n",
    "    time.sleep(0.1)"
   ]
  },
  {
   "cell_type": "code",
   "execution_count": 9,
   "metadata": {},
   "outputs": [],
   "source": [
    "del komo\n",
    "del C"
   ]
  },
  {
   "attachments": {},
   "cell_type": "markdown",
   "metadata": {},
   "source": [
    "Then, we add collision constraint with \"accumulatedCollisions\" feature"
   ]
  },
  {
   "cell_type": "code",
   "execution_count": 10,
   "metadata": {},
   "outputs": [],
   "source": [
    "C = ry.Config()\n",
    "C.addFile(ry.raiPath('scenarios/pandaSingle.g'))\n",
    "C.addFrame('way1'). setShape(ry.ST.marker, [.1]) .setPosition([.4, .2, 1.])\n",
    "C.addFrame('way3'). setShape(ry.ST.marker, [.1]) .setPosition([-.4, .2, 1.])\n",
    "\n",
    "C.addFrame('box') \\\n",
    "    .setPosition([-.25,.1,1.]) \\\n",
    "    .setShape(ry.ST.ssBox, size=[.06,.6,.6,.005]) \\\n",
    "    .setColor([1,.5,0]) \\\n",
    "    .setContact(True)\n",
    "\n",
    "C.view()\n",
    "qHome = C.getJointState()"
   ]
  },
  {
   "attachments": {},
   "cell_type": "markdown",
   "metadata": {},
   "source": [
    "But we see that there is a jump in the motion while passing the obstacle\n",
    "\n",
    "Here we will see the importance of the scale of the constraint (give values 0, 100 and 1 (which is default one) relatively). Then put 0.1 (1e-1) for perfect case. Do not forget to Del K and C or restart."
   ]
  },
  {
   "cell_type": "code",
   "execution_count": null,
   "metadata": {},
   "outputs": [],
   "source": [
    "C.setJointState(qHome)\n",
    "komo = ry.KOMO(C, 5, 10, 1, True)\n",
    "komo.addControlObjective([], 0, 1e-1)\n",
    "komo.addControlObjective([], 1, 1e0)\n",
    "komo.addObjective([], ry.FS.accumulatedCollisions, [], ry.OT.eq,[1e-1])\n",
    "komo.addObjective([1], ry.FS.positionDiff, ['l_gripper', 'way1'], ry.OT.eq, [1e1])\n",
    "komo.addObjective([3], ry.FS.positionDiff, ['l_gripper', 'way3'], ry.OT.eq, [1e1])\n",
    "komo.addObjective([5], ry.FS.positionDiff, ['l_gripper', 'way1'], ry.OT.eq, [1e1])\n",
    "\n",
    "ret = ry.NLP_Solver(komo.nlp(), verbose=0 ) .solve()\n",
    "print(ret)\n",
    "q = komo.getPath()\n",
    "print(q)\n",
    "\n",
    "for t in range(q.shape[0]):\n",
    "    C.setJointState(q[t])\n",
    "    C.view(False, f'waypoint {t}')\n",
    "    time.sleep(0.1)"
   ]
  },
  {
   "attachments": {},
   "cell_type": "markdown",
   "metadata": {},
   "source": [
    "komo.addObjective([], ry.FS.accumulatedCollisions, [], ry.OT.eq);\n",
    "\n",
    "    komo.addObjective(...): This is calling a method named addObjective on the komo object, which is an instance of a KOMO optimizer.\n",
    "\n",
    "    []: The first argument [] specifies the time intervals over which this objective applies. In this case, [] means it applies to all time intervals. In other words, this objective is valid for the entire duration of the optimization.\n",
    "\n",
    "    ry.FS.accumulatedCollisions: The second argument ry.FS.accumulatedCollisions is specifying the type of feature to use for this objective. In this case, it's using a feature related to accumulated collisions. This means the objective will aim to minimize the total amount of collisions that occur throughout the motion.\n",
    "\n",
    "    []: The third argument [] specifies the frames associated with this feature. Since ry.FS.accumulatedCollisions doesn't require specific frame associations, this argument is left empty.\n",
    "\n",
    "    ry.OT.eq: The fourth argument ry.OT.eq specifies the type of objective. Here, it's an equality constraint. This means the optimizer will aim to make the value of the accumulated collisions equal to a certain target value (which is default value zero in here).\n",
    "\n",
    "Putting it all together, this line is instructing the optimizer to minimize the total amount of accumulated collisions over the entire duration of the motion, treating it as an equality constraint. This is a way to prioritize collision-free or low-collision solutions."
   ]
  },
  {
   "attachments": {},
   "cell_type": "markdown",
   "metadata": {},
   "source": [
    "##  Part b) Possible State Solution by KOMO"
   ]
  },
  {
   "cell_type": "code",
   "execution_count": 12,
   "metadata": {},
   "outputs": [],
   "source": [
    "del komo\n",
    "del C"
   ]
  },
  {
   "cell_type": "code",
   "execution_count": 23,
   "metadata": {},
   "outputs": [],
   "source": [
    "C = ry.Config()\n",
    "C.addFile(ry.raiPath('scenarios/pandaSingle.g'))\n",
    "C.addFrame('way3'). setShape(ry.ST.marker, [.1]) .setPosition([-.4, .2, 1.0])\n",
    "\n",
    "C.addFrame('box') \\\n",
    "    .setPosition([-.25,.1,1.3]) \\\n",
    "    .setShape(ry.ST.ssBox, size=[.06,.7,.5,.005]) \\\n",
    "    .setColor([1,.5,0]) \\\n",
    "    .setContact(True)\n",
    "\n",
    "C.view()\n",
    "qHome = C.getJointState()"
   ]
  },
  {
   "cell_type": "code",
   "execution_count": null,
   "metadata": {},
   "outputs": [],
   "source": [
    "C.setJointState(qHome)\n",
    "komo = ry.KOMO(C, 1, 10, 2, True)\n",
    "komo.addControlObjective([], 0, 1e-1) \n",
    "komo.addControlObjective([], 2, 1e0)\n",
    "komo.addObjective([], ry.FS.accumulatedCollisions, [], ry.OT.eq,[1e1])\n",
    "komo.addObjective([1], ry.FS.positionDiff, ['l_gripper', 'way3'], ry.OT.eq, [1e1])\n",
    "komo.addObjective([1], ry.FS.jointState, [], ry.OT.eq, [1e1], [], order=1)\n",
    "\n",
    "ret = ry.NLP_Solver(komo.nlp(), verbose=0 ) .solve()\n",
    "print(ret)\n",
    "q = komo.getPath()\n",
    "print('size of path:', q.shape)\n",
    "\n",
    "for t in range(q.shape[0]):\n",
    "    C.setJointState(q[t])\n",
    "    C.view(False, f'waypoint {t}')\n",
    "    time.sleep(.1)"
   ]
  },
  {
   "attachments": {},
   "cell_type": "markdown",
   "metadata": {},
   "source": [
    "## Possible State Solution by RRT"
   ]
  },
  {
   "cell_type": "code",
   "execution_count": null,
   "metadata": {},
   "outputs": [],
   "source": [
    "# that's the goal configuration\n",
    "qT = komo.getPath()[-1]\n",
    "C.setJointState(qT)\n",
    "C.view(False, \"IK solution\")"
   ]
  },
  {
   "cell_type": "code",
   "execution_count": null,
   "metadata": {},
   "outputs": [],
   "source": [
    "#define a path finding problem\n",
    "rrt = ry.PathFinder()\n",
    "rrt.setProblem(C, [qHome], [qT])\n",
    "\n",
    "ret = rrt.solve()\n",
    "print(ret)\n",
    "path = ret.x"
   ]
  },
  {
   "cell_type": "code",
   "execution_count": 35,
   "metadata": {},
   "outputs": [],
   "source": [
    "# display the path\n",
    "for t in range(0, path.shape[0]-1):\n",
    "    C.setJointState(path[t])\n",
    "    C.view()\n",
    "    time.sleep(.1)"
   ]
  },
  {
   "cell_type": "code",
   "execution_count": 36,
   "metadata": {},
   "outputs": [],
   "source": [
    "del komo\n",
    "del rrt\n",
    "del C"
   ]
  },
  {
   "attachments": {},
   "cell_type": "markdown",
   "metadata": {},
   "source": [
    "Now, let us give a state which is impossible for robot arm to reach."
   ]
  },
  {
   "attachments": {},
   "cell_type": "markdown",
   "metadata": {},
   "source": [
    "##  Part c) Impossible State Solution by KOMO"
   ]
  },
  {
   "cell_type": "code",
   "execution_count": 37,
   "metadata": {},
   "outputs": [],
   "source": [
    "C = ry.Config()\n",
    "C.addFile(ry.raiPath('scenarios/pandaSingle.g'))\n",
    "C.addFrame('way3'). setShape(ry.ST.marker, [.1]) .setPosition([-.4, .2, 1.])\n",
    "\n",
    "C.addFrame('box') \\\n",
    "    .setPosition([-.25,.1,1.]) \\\n",
    "    .setShape(ry.ST.ssBox, size=[.06,.7,.7,.005]) \\\n",
    "    .setColor([1,.5,0]) \\\n",
    "    .setContact(True)\n",
    "\n",
    "C.view()\n",
    "qHome = C.getJointState()"
   ]
  },
  {
   "cell_type": "code",
   "execution_count": null,
   "metadata": {},
   "outputs": [],
   "source": [
    "C.setJointState(qHome)\n",
    "komo = ry.KOMO(C, 1, 10, 2, True)\n",
    "komo.addControlObjective([], 0, 1e-1) \n",
    "komo.addControlObjective([], 2, 1e0)\n",
    "komo.addObjective([], ry.FS.accumulatedCollisions, [], ry.OT.eq,[1e1])\n",
    "komo.addObjective([1], ry.FS.positionDiff, ['l_gripper', 'way3'], ry.OT.eq, [1e1])\n",
    "komo.addObjective([1], ry.FS.jointState, [], ry.OT.eq, [1e1], [], order=1)\n",
    "\n",
    "ret = ry.NLP_Solver(komo.nlp(), verbose=0 ) .solve()\n",
    "print(ret)\n",
    "q = komo.getPath()\n",
    "print('size of path:', q.shape)\n",
    "for t in range(q.shape[0]):\n",
    "    C.setJointState(q[t])\n",
    "    C.view(False, f'waypoint {t}')\n",
    "    time.sleep(.1)"
   ]
  },
  {
   "attachments": {},
   "cell_type": "markdown",
   "metadata": {},
   "source": [
    "## Impossible State Solution by RRT"
   ]
  },
  {
   "cell_type": "code",
   "execution_count": null,
   "metadata": {},
   "outputs": [],
   "source": [
    "# that's the goal configuration\n",
    "qT = komo.getPath()[-1]\n",
    "C.setJointState(qT)\n",
    "C.view(False, \"IK solution\")"
   ]
  },
  {
   "cell_type": "code",
   "execution_count": null,
   "metadata": {},
   "outputs": [],
   "source": [
    "#define a path finding problem\n",
    "rrt = ry.PathFinder()\n",
    "rrt.setProblem(C, [qHome], [qT])\n",
    "\n",
    "ret = rrt.solve()\n",
    "print(ret)\n",
    "path = ret.x"
   ]
  },
  {
   "attachments": {},
   "cell_type": "markdown",
   "metadata": {},
   "source": [
    "So we will get an error since there is no feasible solution"
   ]
  },
  {
   "cell_type": "code",
   "execution_count": null,
   "metadata": {},
   "outputs": [],
   "source": [
    "# display the path\n",
    "for t in range(0, path.shape[0]-1):\n",
    "    C.setJointState(path[t])\n",
    "    C.view()\n",
    "    time.sleep(.1)"
   ]
  },
  {
   "cell_type": "code",
   "execution_count": 41,
   "metadata": {},
   "outputs": [],
   "source": [
    "# https://marctoussaint.github.io/robotics-course/tutorials.html -> Tutorials\n",
    "# https://github.com/MarcToussaint/rai-tutorials/tree/main -> Tutorials\n",
    "# https://marctoussaint.github.io/robotics-course/rai.html -> Documentation"
   ]
  }
 ],
 "metadata": {
  "kernelspec": {
   "display_name": "Python 3",
   "language": "python",
   "name": "python3"
  },
  "language_info": {
   "codemirror_mode": {
    "name": "ipython",
    "version": 3
   },
   "file_extension": ".py",
   "mimetype": "text/x-python",
   "name": "python",
   "nbconvert_exporter": "python",
   "pygments_lexer": "ipython3",
   "version": "3.8.10"
  },
  "orig_nbformat": 4
 },
 "nbformat": 4,
 "nbformat_minor": 2
}
